{
 "cells": [
  {
   "cell_type": "code",
   "execution_count": 7,
   "id": "8d7acc70",
   "metadata": {},
   "outputs": [],
   "source": [
    "import os\n",
    "import re\n",
    "import json\n",
    "import numpy as np\n",
    "from os.path import dirname, join, abspath"
   ]
  },
  {
   "cell_type": "code",
   "execution_count": 8,
   "id": "88a4bf11",
   "metadata": {},
   "outputs": [],
   "source": [
    "class DataUser:\n",
    "    def __init__(self):        \n",
    "        base_path = os.path.dirname(os.path.realpath('__file__'))\n",
    "        train_path = join(base_path, 'train')\n",
    "        models_path = join(base_path, 'models')\n",
    "        self.weight_path = join(models_path, 'data.json')\n",
    "        self.url_server = 'http://192.168.168.195/face-recognition/face-verification/list_images/'\n",
    "    \n",
    "    def get_data(self):\n",
    "        data = open(self.weight_path)\n",
    "        rs_json = json.load(data)\n",
    "        ind = 1\n",
    "        result = {\n",
    "            \"data\":[]\n",
    "        }\n",
    "        for key, value in rs_json.items():\n",
    "            res = re.findall(r'\\w+', key)\n",
    "            name = ' '.join(res[1:])\n",
    "            img_url = self.url_server + key + '.jpg'\n",
    "            r1 = {\n",
    "                    \"registration_number\": res[0],\n",
    "                    \"name\": name,\n",
    "                    \"image\": img_url\n",
    "            }\n",
    "            result['data'].append(r1)\n",
    "        return result"
   ]
  },
  {
   "cell_type": "code",
   "execution_count": 11,
   "id": "18bfab3b",
   "metadata": {},
   "outputs": [],
   "source": [
    "pd = DataUser()\n",
    "data = pd.get_data()"
   ]
  },
  {
   "cell_type": "code",
   "execution_count": 15,
   "id": "cc1381f2",
   "metadata": {},
   "outputs": [
    {
     "data": {
      "text/plain": [
       "56"
      ]
     },
     "execution_count": 15,
     "metadata": {},
     "output_type": "execute_result"
    }
   ],
   "source": [
    "len(data['data'])"
   ]
  },
  {
   "cell_type": "code",
   "execution_count": null,
   "id": "bdf9d6fa",
   "metadata": {},
   "outputs": [],
   "source": []
  }
 ],
 "metadata": {
  "kernelspec": {
   "display_name": "Python [conda env:face-recognition] *",
   "language": "python",
   "name": "conda-env-face-recognition-py"
  },
  "language_info": {
   "codemirror_mode": {
    "name": "ipython",
    "version": 3
   },
   "file_extension": ".py",
   "mimetype": "text/x-python",
   "name": "python",
   "nbconvert_exporter": "python",
   "pygments_lexer": "ipython3",
   "version": "3.8.5"
  }
 },
 "nbformat": 4,
 "nbformat_minor": 5
}
